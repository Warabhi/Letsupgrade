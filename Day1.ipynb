{
  "nbformat": 4,
  "nbformat_minor": 0,
  "metadata": {
    "colab": {
      "name": "Day1.ipynb",
      "provenance": [],
      "collapsed_sections": [],
      "authorship_tag": "ABX9TyPTRI8Ys9mn2QH2ejkQU5aE",
      "include_colab_link": true
    },
    "kernelspec": {
      "name": "python3",
      "display_name": "Python 3"
    }
  },
  "cells": [
    {
      "cell_type": "markdown",
      "metadata": {
        "id": "view-in-github",
        "colab_type": "text"
      },
      "source": [
        "<a href=\"https://colab.research.google.com/github/Warabhi/Letsupgrade/blob/main/Day1.ipynb\" target=\"_parent\"><img src=\"https://colab.research.google.com/assets/colab-badge.svg\" alt=\"Open In Colab\"/></a>"
      ]
    },
    {
      "cell_type": "markdown",
      "metadata": {
        "id": "8pgZfpJvhx_u"
      },
      "source": [
        "Q1"
      ]
    },
    {
      "cell_type": "markdown",
      "metadata": {
        "id": "Ou2oUDKmiLkK"
      },
      "source": [
        "RAINBOW\n"
      ]
    },
    {
      "cell_type": "markdown",
      "metadata": {
        "id": "jRHelvtaiSia"
      },
      "source": [
        "Q2"
      ]
    },
    {
      "cell_type": "code",
      "metadata": {
        "id": "_99o4a0Ah81U",
        "outputId": "92c814b3-1e11-43f6-b945-e35cc1c2ae43",
        "colab": {
          "base_uri": "https://localhost:8080/"
        }
      },
      "source": [
        "print(\"LETS UPGRADE\")"
      ],
      "execution_count": null,
      "outputs": [
        {
          "output_type": "stream",
          "text": [
            "LETS UPGRADE\n"
          ],
          "name": "stdout"
        }
      ]
    },
    {
      "cell_type": "markdown",
      "metadata": {
        "id": "6xbLL7xUi-ez"
      },
      "source": [
        "Q3"
      ]
    },
    {
      "cell_type": "code",
      "metadata": {
        "id": "TYCeRWBniYtO",
        "outputId": "e69df9f1-e8c1-4022-c19e-279e07dc0cc5",
        "colab": {
          "base_uri": "https://localhost:8080/"
        }
      },
      "source": [
        "cost_price = int(input())\n",
        "selling_price = int(input())\n",
        "if cost_price < selling_price :\n",
        "  print(\"Profit\")\n",
        "elif cost_price > selling_price:\n",
        "  print(\"Loss\")\n",
        "else :\n",
        "  print(\"Neither\")\n"
      ],
      "execution_count": null,
      "outputs": [
        {
          "output_type": "stream",
          "text": [
            "10\n",
            "20\n",
            "Profit\n"
          ],
          "name": "stdout"
        }
      ]
    },
    {
      "cell_type": "markdown",
      "metadata": {
        "id": "1Y9cXTzFlWYJ"
      },
      "source": [
        "Q4"
      ]
    },
    {
      "cell_type": "code",
      "metadata": {
        "id": "3XzmU7IJlKGt",
        "outputId": "20d9b138-bc40-4413-f0cd-411081e95e65",
        "colab": {
          "base_uri": "https://localhost:8080/"
        }
      },
      "source": [
        "euro = int(input())\n",
        "rupees = euro*80\n",
        "print(rupees)"
      ],
      "execution_count": null,
      "outputs": [
        {
          "output_type": "stream",
          "text": [
            "10\n",
            "800\n"
          ],
          "name": "stdout"
        }
      ]
    }
  ]
}