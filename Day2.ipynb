{
  "nbformat": 4,
  "nbformat_minor": 0,
  "metadata": {
    "colab": {
      "name": "Day2.ipynb",
      "provenance": [],
      "collapsed_sections": [],
      "authorship_tag": "ABX9TyME47qV3H19jswtaLtT/kbl",
      "include_colab_link": true
    },
    "kernelspec": {
      "name": "python3",
      "display_name": "Python 3"
    }
  },
  "cells": [
    {
      "cell_type": "markdown",
      "metadata": {
        "id": "view-in-github",
        "colab_type": "text"
      },
      "source": [
        "<a href=\"https://colab.research.google.com/github/Warabhi/Letsupgrade/blob/main/Day2.ipynb\" target=\"_parent\"><img src=\"https://colab.research.google.com/assets/colab-badge.svg\" alt=\"Open In Colab\"/></a>"
      ]
    },
    {
      "cell_type": "markdown",
      "metadata": {
        "id": "br8Bm7QSQIrY"
      },
      "source": [
        "Q1"
      ]
    },
    {
      "cell_type": "code",
      "metadata": {
        "id": "N7HDVKNtQJf4",
        "outputId": "f54a0509-bce6-4db5-870f-43dfb0b0572d",
        "colab": {
          "base_uri": "https://localhost:8080/"
        }
      },
      "source": [
        "l= []\n",
        "for i in range(10):\n",
        "  i = (int(input()))\n",
        "  if i%2==0:\n",
        "    l.append(i)\n",
        "\n",
        "print(l)    "
      ],
      "execution_count": 7,
      "outputs": [
        {
          "output_type": "stream",
          "text": [
            "1\n",
            "2\n",
            "3\n",
            "4\n",
            "5\n",
            "6\n",
            "7\n",
            "8\n",
            "9\n",
            "10\n",
            "[2, 4, 6, 8, 10]\n"
          ],
          "name": "stdout"
        }
      ]
    },
    {
      "cell_type": "markdown",
      "metadata": {
        "id": "fwYjcn2bSUAw"
      },
      "source": [
        "Q2"
      ]
    },
    {
      "cell_type": "code",
      "metadata": {
        "id": "D6b7_KgpSDVf",
        "outputId": "aef15db3-3af9-4627-d817-1d43b98987a4",
        "colab": {
          "base_uri": "https://localhost:8080/"
        }
      },
      "source": [
        "S = [x**2 for x in range(10)]\n",
        "print(S)\n",
        "V = [2**i for i in range(13)]\n",
        "print(V)"
      ],
      "execution_count": 8,
      "outputs": [
        {
          "output_type": "stream",
          "text": [
            "[0, 1, 4, 9, 16, 25, 36, 49, 64, 81]\n",
            "[1, 2, 4, 8, 16, 32, 64, 128, 256, 512, 1024, 2048, 4096]\n"
          ],
          "name": "stdout"
        }
      ]
    },
    {
      "cell_type": "markdown",
      "metadata": {
        "id": "E8IP2KOiTBex"
      },
      "source": [
        "Q3"
      ]
    },
    {
      "cell_type": "code",
      "metadata": {
        "id": "BeLEJ6-dS_ge",
        "outputId": "fb1549cd-353e-42bb-901b-eccfb89ec8dd",
        "colab": {
          "base_uri": "https://localhost:8080/"
        }
      },
      "source": [
        "n=int(input(\"Input: \"))\n",
        "d = dict()\n",
        "\n",
        "for i in range(1,n+1):\n",
        "    d[i]=i*i\n",
        "\n",
        "print(d) \n"
      ],
      "execution_count": 9,
      "outputs": [
        {
          "output_type": "stream",
          "text": [
            "Input: 10\n",
            "{1: 1, 2: 4, 3: 9, 4: 16, 5: 25, 6: 36, 7: 49, 8: 64, 9: 81, 10: 100}\n"
          ],
          "name": "stdout"
        }
      ]
    },
    {
      "cell_type": "markdown",
      "metadata": {
        "id": "ncCDuxpIT2xp"
      },
      "source": [
        "Q4"
      ]
    },
    {
      "cell_type": "code",
      "metadata": {
        "id": "kbwq-UfUXYZw",
        "outputId": "70c0b04a-1183-4469-9744-2d684f4b6455",
        "colab": {
          "base_uri": "https://localhost:8080/"
        }
      },
      "source": [
        "pos = {\"x\":0,\"y\":0}\n",
        "num = int(input())\n",
        "\n",
        "for _ in range (num):\n",
        "    command =  input().split(\" \")      # ACCEPT MOVEMENT COMMAND AND STORE AS A LIST\n",
        "    if command[0] == \"UP\":             # EXTRACT DIRECTION AND COMPARE\n",
        "        pos[\"y\"] += int(command[1])    # INCREMENT/DECREMENT APPROPRIATE CO-ORDINATES\n",
        "    if command[0] == \"DOWN\":\n",
        "        pos[\"y\"] -= int(command[1])\n",
        "    if command[0] == \"LEFT\":\n",
        "        pos[\"x\"] -= int(command[1])\n",
        "    if command[0] == \"RIGHT\":\n",
        "        pos[\"x\"] += int(command[1])\n",
        "\n",
        "print(int(round((pos[\"x\"]**2 + pos[\"y\"]**2)**0.5)))   # DISTANCE FROM ORIGIN"
      ],
      "execution_count": 15,
      "outputs": [
        {
          "output_type": "stream",
          "text": [
            "2\n",
            "UP 5\n",
            "RIGHT 3\n",
            "6\n"
          ],
          "name": "stdout"
        }
      ]
    },
    {
      "cell_type": "code",
      "metadata": {
        "id": "XT-xdI5mYNtr"
      },
      "source": [
        ""
      ],
      "execution_count": null,
      "outputs": []
    }
  ]
}