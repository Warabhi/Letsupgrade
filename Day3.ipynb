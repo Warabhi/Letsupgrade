{
  "nbformat": 4,
  "nbformat_minor": 0,
  "metadata": {
    "colab": {
      "name": "Day3.ipynb",
      "provenance": [],
      "collapsed_sections": [],
      "authorship_tag": "ABX9TyPWhf4RHD0SUcOOl8WyFnmL",
      "include_colab_link": true
    },
    "kernelspec": {
      "name": "python3",
      "display_name": "Python 3"
    }
  },
  "cells": [
    {
      "cell_type": "markdown",
      "metadata": {
        "id": "view-in-github",
        "colab_type": "text"
      },
      "source": [
        "<a href=\"https://colab.research.google.com/github/Warabhi/Letsupgrade/blob/main/Day3.ipynb\" target=\"_parent\"><img src=\"https://colab.research.google.com/assets/colab-badge.svg\" alt=\"Open In Colab\"/></a>"
      ]
    },
    {
      "cell_type": "code",
      "metadata": {
        "id": "9gB3dNV7fq2W"
      },
      "source": [
        "import matplotlib.pyplot as plt\n",
        "import numpy as np"
      ],
      "execution_count": 1,
      "outputs": []
    },
    {
      "cell_type": "markdown",
      "metadata": {
        "id": "-ySNm2_UiT-k"
      },
      "source": [
        "Q1"
      ]
    },
    {
      "cell_type": "code",
      "metadata": {
        "id": "EEwOGiuWiUkL",
        "outputId": "e078dabe-16a1-4748-cdb9-9c55e0e15915",
        "colab": {
          "base_uri": "https://localhost:8080/"
        }
      },
      "source": [
        "arr = np.arange(start=2, stop=50, step=3)\n",
        "print(arr)"
      ],
      "execution_count": 2,
      "outputs": [
        {
          "output_type": "stream",
          "text": [
            "[ 2  5  8 11 14 17 20 23 26 29 32 35 38 41 44 47]\n"
          ],
          "name": "stdout"
        }
      ]
    },
    {
      "cell_type": "markdown",
      "metadata": {
        "id": "RDMQRE0koT8d"
      },
      "source": [
        "Q2"
      ]
    },
    {
      "cell_type": "code",
      "metadata": {
        "id": "RU8JkvDRjDCR",
        "outputId": "1b7918b0-e847-494e-f367-2700dd2b2aff",
        "colab": {
          "base_uri": "https://localhost:8080/"
        }
      },
      "source": [
        "l1 = list(input())\n",
        "l2 = list(input())\n",
        "arr1 = np.array(l1)\n",
        "arr2 = np.array(l2)\n",
        "arr = np.concatenate((arr1, arr2))\n",
        "print(np.sort(arr))"
      ],
      "execution_count": 5,
      "outputs": [
        {
          "output_type": "stream",
          "text": [
            "74120\n",
            "89635\n",
            "['0' '1' '2' '3' '4' '5' '6' '7' '8' '9']\n"
          ],
          "name": "stdout"
        }
      ]
    },
    {
      "cell_type": "markdown",
      "metadata": {
        "id": "mrAhSvpEoOB1"
      },
      "source": [
        "Q3"
      ]
    },
    {
      "cell_type": "code",
      "metadata": {
        "id": "rSa0GkSXlo2n",
        "outputId": "116a710e-b422-48ff-98df-522d2c1db18a",
        "colab": {
          "base_uri": "https://localhost:8080/"
        }
      },
      "source": [
        "# Creating array object\n",
        "arr = np.array( [[ 1, 2, 3],[ 4, 2, 5]] )\n",
        "print(arr.ndim)\n",
        "print(arr.shape)"
      ],
      "execution_count": 6,
      "outputs": [
        {
          "output_type": "stream",
          "text": [
            "2\n",
            "(2, 3)\n"
          ],
          "name": "stdout"
        }
      ]
    },
    {
      "cell_type": "markdown",
      "metadata": {
        "id": "8Na0VGqmoWiK"
      },
      "source": [
        "Q4"
      ]
    },
    {
      "cell_type": "code",
      "metadata": {
        "id": "vJ2z5gPGoJEQ",
        "outputId": "eb4b5945-75dc-45bc-9013-02c9a9aba2ef",
        "colab": {
          "base_uri": "https://localhost:8080/"
        }
      },
      "source": [
        "a = np.array([1, 2, 3, 4, 5, 6])\n",
        "print(a.shape)\n",
        "print(a)\n",
        "a2 = a[np.newaxis, :]\n",
        "print(a2.shape)\n",
        "print(a2)"
      ],
      "execution_count": 9,
      "outputs": [
        {
          "output_type": "stream",
          "text": [
            "(6,)\n",
            "[1 2 3 4 5 6]\n",
            "(1, 6)\n",
            "[[1 2 3 4 5 6]]\n"
          ],
          "name": "stdout"
        }
      ]
    },
    {
      "cell_type": "markdown",
      "metadata": {
        "id": "RYyDQ_CupcgL"
      },
      "source": [
        "Q5"
      ]
    },
    {
      "cell_type": "code",
      "metadata": {
        "id": "1MoytwBIpK-T",
        "outputId": "751447a7-f296-42fd-9ece-bd78a9c7cde8",
        "colab": {
          "base_uri": "https://localhost:8080/"
        }
      },
      "source": [
        "a = np.array([1,2,3])\n",
        "b = np.array([4,5,6])\n",
        "print('Horizontal Append:', np.hstack((a, b)))\n",
        "print('Vertical Append:', np.vstack((a, b)))"
      ],
      "execution_count": 10,
      "outputs": [
        {
          "output_type": "stream",
          "text": [
            "Horizontal Append: [1 2 3 4 5 6]\n",
            "Vertical Append: [[1 2 3]\n",
            " [4 5 6]]\n"
          ],
          "name": "stdout"
        }
      ]
    },
    {
      "cell_type": "markdown",
      "metadata": {
        "id": "Qc8E_EZDqkPT"
      },
      "source": [
        "Q6"
      ]
    },
    {
      "cell_type": "code",
      "metadata": {
        "id": "eTTqkMCRqBh5",
        "outputId": "1070906d-03e1-4b0d-ab9a-cf4f78c6a94d",
        "colab": {
          "base_uri": "https://localhost:8080/"
        }
      },
      "source": [
        "arr = np.array([1, 1, 2, 3, 4, 4, 1])\n",
        "\n",
        "(unique, counts) = np.unique(arr, return_counts=True)\n",
        "frequencies = np.asarray((unique, counts)).T\n",
        "\n",
        "print(frequencies)"
      ],
      "execution_count": 12,
      "outputs": [
        {
          "output_type": "stream",
          "text": [
            "[[1 3]\n",
            " [2 1]\n",
            " [3 1]\n",
            " [4 2]]\n"
          ],
          "name": "stdout"
        }
      ]
    }
  ]
}